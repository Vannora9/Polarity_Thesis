{
  "nbformat": 4,
  "nbformat_minor": 0,
  "metadata": {
    "colab": {
      "name": "2021.11.27 BOW+SVM.ipynb",
      "provenance": [],
      "collapsed_sections": [],
      "mount_file_id": "1BuX_MZEQT1z9yDp3toaEntBO-czS5Wz3",
      "authorship_tag": "ABX9TyN2mBkBHEu72ATHeN/vzz7O",
      "include_colab_link": true
    },
    "kernelspec": {
      "display_name": "Python 3",
      "name": "python3"
    },
    "language_info": {
      "name": "python"
    }
  },
  "cells": [
    {
      "cell_type": "markdown",
      "metadata": {
        "id": "view-in-github",
        "colab_type": "text"
      },
      "source": [
        "<a href=\"https://colab.research.google.com/github/Vannora9/Polarity_Thesis/blob/main/2021_11_27_BOW%2BSVM.ipynb\" target=\"_parent\"><img src=\"https://colab.research.google.com/assets/colab-badge.svg\" alt=\"Open In Colab\"/></a>"
      ]
    },
    {
      "cell_type": "code",
      "metadata": {
        "id": "euMZS3JStYRx"
      },
      "source": [
        "import nltk\n",
        "import pandas as pd\n",
        "import numpy as np\n",
        "import sklearn.svm as svm\n",
        "import multiprocessing\n",
        "\n",
        "from nltk.corpus import stopwords\n",
        "from nltk.tokenize import RegexpTokenizer, sent_tokenize\n",
        "from nltk.stem import WordNetLemmatizer\n",
        "from keras.preprocessing.text import Tokenizer\n",
        "from keras.preprocessing.sequence import pad_sequences\n",
        "from sklearn.model_selection import train_test_split\n",
        "from sklearn.svm import SVC\n",
        "from sklearn.pipeline import Pipeline\n",
        "from sklearn.model_selection import GridSearchCV, train_test_split, cross_val_score\n",
        "from sklearn import preprocessing\n",
        "from sklearn.decomposition import TruncatedSVD\n",
        "from sklearn.feature_extraction.text import TfidfVectorizer"
      ],
      "execution_count": null,
      "outputs": []
    },
    {
      "cell_type": "code",
      "metadata": {
        "colab": {
          "base_uri": "https://localhost:8080/"
        },
        "id": "eTWlxONk3XN5",
        "outputId": "90f69d36-f285-4629-f3e3-3971635b05a9"
      },
      "source": [
        "nltk.download(\"stopwords\")\n",
        "nltk.download('punkt')"
      ],
      "execution_count": null,
      "outputs": [
        {
          "output_type": "stream",
          "name": "stderr",
          "text": [
            "[nltk_data] Downloading package stopwords to /root/nltk_data...\n",
            "[nltk_data]   Unzipping corpora/stopwords.zip.\n",
            "[nltk_data] Downloading package punkt to /root/nltk_data...\n",
            "[nltk_data]   Unzipping tokenizers/punkt.zip.\n"
          ]
        },
        {
          "output_type": "execute_result",
          "data": {
            "text/plain": [
              "True"
            ]
          },
          "metadata": {},
          "execution_count": 2
        }
      ]
    },
    {
      "cell_type": "code",
      "metadata": {
        "colab": {
          "base_uri": "https://localhost:8080/"
        },
        "id": "9tdJ-oY9uBYU",
        "outputId": "ab97ae40-27b8-40f4-bfe0-00fbc47fdbbe"
      },
      "source": [
        "nltk.download('wordnet')"
      ],
      "execution_count": null,
      "outputs": [
        {
          "output_type": "stream",
          "name": "stderr",
          "text": [
            "[nltk_data] Downloading package wordnet to /root/nltk_data...\n",
            "[nltk_data]   Unzipping corpora/wordnet.zip.\n"
          ]
        },
        {
          "output_type": "execute_result",
          "data": {
            "text/plain": [
              "True"
            ]
          },
          "metadata": {},
          "execution_count": 3
        }
      ]
    },
    {
      "cell_type": "code",
      "source": [
        "import nltk\n",
        "nltk.download('omw-1.4')"
      ],
      "metadata": {
        "colab": {
          "base_uri": "https://localhost:8080/"
        },
        "id": "RtC3FbJqNnb6",
        "outputId": "739ad1fb-27ba-42bc-ae1b-0b0d2f18d3f4"
      },
      "execution_count": null,
      "outputs": [
        {
          "output_type": "stream",
          "name": "stderr",
          "text": [
            "[nltk_data] Downloading package omw-1.4 to /root/nltk_data...\n",
            "[nltk_data]   Unzipping corpora/omw-1.4.zip.\n"
          ]
        },
        {
          "output_type": "execute_result",
          "data": {
            "text/plain": [
              "True"
            ]
          },
          "metadata": {},
          "execution_count": 4
        }
      ]
    },
    {
      "cell_type": "code",
      "metadata": {
        "id": "_aOe1lALdWM3",
        "colab": {
          "base_uri": "https://localhost:8080/"
        },
        "outputId": "871bf1de-05c7-4757-dd12-79896c2cf1b1"
      },
      "source": [
        "data = pd.read_csv(\"/content/drive/MyDrive/program/datasets/data.csv\", encoding='latin-1', error_bad_lines=False, dtype=\"str\")"
      ],
      "execution_count": null,
      "outputs": [
        {
          "output_type": "stream",
          "name": "stderr",
          "text": [
            "/usr/local/lib/python3.7/dist-packages/IPython/core/interactiveshell.py:2882: FutureWarning: The error_bad_lines argument has been deprecated and will be removed in a future version.\n",
            "\n",
            "\n",
            "  exec(code_obj, self.user_global_ns, self.user_ns)\n"
          ]
        }
      ]
    },
    {
      "cell_type": "code",
      "metadata": {
        "id": "DFJvOsGnrs7H",
        "colab": {
          "base_uri": "https://localhost:8080/"
        },
        "outputId": "6ba9fd5a-ac50-42b8-c1e3-3eb90055f3ca"
      },
      "source": [
        "print(data)"
      ],
      "execution_count": null,
      "outputs": [
        {
          "output_type": "stream",
          "name": "stdout",
          "text": [
            "     lable                                           sentence\n",
            "0        0  the movie begins in the past where a young boy...\n",
            "1        0  emerging from the human psyche and showing cha...\n",
            "2        0  spurning her mother's insistence that she get ...\n",
            "3        0  amitabh can't believe the board of directors a...\n",
            "4        0                                               she \n",
            "...    ...                                                ...\n",
            "9995     1                                         a haunted \n",
            "9996     1      the movie's gloomy atmosphere is fascinating \n",
            "9997     1  it aimlessly and unsuccessfully attempts to fu...\n",
            "9998     1                            an authentically vague \n",
            "9999     1                              visually imaginative \n",
            "\n",
            "[10000 rows x 2 columns]\n"
          ]
        }
      ]
    },
    {
      "cell_type": "code",
      "source": [
        "for i in data['sentence'][:300]:\n",
        "  print(i)\n",
        "#print(data['sentence'][:300])"
      ],
      "metadata": {
        "colab": {
          "base_uri": "https://localhost:8080/"
        },
        "id": "f7hj_-A1OXzA",
        "outputId": "54cbaeb8-0506-46a5-dbd9-c92a74b7e5a0"
      },
      "execution_count": null,
      "outputs": [
        {
          "output_type": "stream",
          "name": "stdout",
          "text": [
            "the movie begins in the past where a young boy named sam attempts to save celebi from a hunter . \n",
            "emerging from the human psyche and showing characteristics of abstract expressionism \n",
            "spurning her mother's insistence that she get on with her life \n",
            "amitabh can't believe the board of directors and his mind is filled with revenge and what better revenge than robbing the bank himself \n",
            "she \n",
            "this gives the girls a fair chance of pulling the wool over their eyes using their sexiness to poach any last vestige of common sense the dons might have had . \n",
            "styled after vh1's \" behind the music \n",
            "being blue is not his only predicament ; he also lacks the ability to outwardly express his emotions . \n",
            "the killer's clues are a perversion of biblical punishments for sins : stoning \n",
            "david is a painter with painter's block who takes a job as a waiter to get some inspiration . \n",
            "women craved him and men wanted to be him . \n",
            "set on an island off the coast of florida \n",
            "lesson to be learned : never \n",
            "the theme of the film simultaneously addresses the similarities between the two factions of law and crime while revealing the similarities between the two brothers . \n",
            "they're jewish \n",
            "but he's neglecting his work \n",
            "with all this going on \n",
            "valento feels the heat and turns the table : he makes the dupe into one of his own and rubs the da's nose in it . \n",
            "saigon \n",
            "deep in the northwest \n",
            "as a young teenager \n",
            "in life \n",
            "all these games of chasing \n",
            "television made him famous \n",
            "jordan is a mom who is on a life long search for true faith as she tries to protect her only child from what she believes is injustice . \n",
            "'bloody magic' is the story of zack \n",
            "however \n",
            "called \" an elegant documentary \" by sundance and \" eloquent and deeply moving \" by the la times \n",
            "straight up : helicopters in action will take audiences on a series of aerial adventures . \n",
            "a lapp woman anni gives a shelter to both of them at her farm . \n",
            "it also touches on the encroachment of christianity brought by the missionaries \n",
            "a set of grisly murders brings fbi agent will graham ( norton ) out of retirement and puts him in search of an atrocious killer ( fiennes ) who's driven by the image of a painting . \n",
            "soon \n",
            "his mother persuades a renowned entomologist to take them on a trip to the jungle to search for the butterfly \n",
            "with a rare gift for melding subjectivity with biographical facts \n",
            "seeking a mental escape \n",
            "the beatle fan is a drama about albert \n",
            "then \n",
            "on her deathbed \n",
            "shot as a \" behind-the-scenes \" look at how a fictional kung-fu movie is made \n",
            "before the investigation ends \n",
            "but what exactly is good &#38 ; what exactly is evil ? \n",
            "the movie takes place in mexico \n",
            "rainone's love affair with singing sensation kelly mcguire whom he discovered and his near demise by the hands of his own prot&#233 ; g&#233 ; vincent riccola is the juice that fuels this roller coaster ride through two debauchery-filled decades of greed \n",
            "trapped in a lovers triangle and ruthless game of lust \n",
            "decent-but-dull dek loves shirley \n",
            "since all her architects are either busy otherwise or too conservative in style \n",
            "there's a story that goes around the town of darkness falls about her \n",
            "a strange film employing old home movies and newly shot footage in an effort to expose one hungarian family and their mutiple problems from the 1940s to current . \n",
            "matsumoto and sawako were a happy couple \n",
            "elvis teams up with jack ( ossie davis ) \n",
            "everywhere he goes he is plagued by cats and when by chance he meets carol on a lonely highway they must begin a journey \n",
            "used to living in poverty \n",
            "the story of a normal family in which come out the dreams of those who have lost their possibilities and of those who want to realize them . \n",
            "with grit and determination molly guides the girls on an epic journey \n",
            "they nevertherless feel responsible to protect the flag until monday's ceremony . \n",
            "the doctor realizes it''s a love virus so he advises him to woo the girl somehow \n",
            "however \n",
            "years later \n",
            "consequently \n",
            "when she gets into trouble with the police simon represses his death wish and decides to help her out . \n",
            "chon then travels to new york for roy o'bannon ( owen wilson ) . \n",
            "not only must they overcome an enemy adept at technological witchery \n",
            "their life becomes less ordinary when they encounter herb \n",
            "they call themselves d . e . b . s . \n",
            "the story starts with hakimi \n",
            "they follow leads \n",
            "the second part of aki kaurism&#228 ; ki's \" finland \" trilogy \n",
            "soon after the accident \n",
            "edgar becomes intent on laying down some new rules and turning his coddled son into someone who can take on the family farm . \n",
            "bound by a long red cord \n",
            "sudden fame does not seem to solve everything \n",
            "with no option \n",
            "drawing from his time with the kids \n",
            "she's an artist \n",
            "when his daughter is kidnapped and held in exchange for priceless diamonds \n",
            " \" garmento \" tells the other side of the story \n",
            "rudy yellowshirt is an investigator with the police department and witnesses firsthand the painful legacy of indian existence . \n",
            "journeying from the vietnam war to pulaski \n",
            "each weekend they come back with nothing but a hangover . \n",
            "robert de niro plays a therapist who is an obsessive-compulsive agoraphobic and hasn't left his apartment in six years . \n",
            "with his own group \n",
            "graced with the instinctive ability to dance \n",
            "genetically engineered to be immune to the drug \n",
            "palm springs' white party is the backdrop for this documentary on the fast-paced world of gay circuit parties . \n",
            "a few questionable actions later on both parties' part \n",
            "ramu stands in and repeats the wisdom of sharonna \n",
            "anna is the jewish daughter of a spanish mother and a greek father . \n",
            "believing his parent's dead \n",
            "identified as deserters \n",
            "frances decides to take a break and she buys a villa in the beautiful tuscan countryside and decides to begin anew . \n",
            "set in the los angeles police department in april 1992 \n",
            "during this time he becomes wracked by horrific and surreal visions that begin to fuel his work . \n",
            "the face of the serpent is an action-thriller with strong political undertones of local government corruption . \n",
            "he resurfaces as a hired snoop for \n",
            "surrounded by a bevy of adoring but completely wrong for her men ( and one dead girl from manchester ) \n",
            "upon discovering her infidelity \n",
            "initially reluctant to help \n",
            "his plans go awry \n",
            "inspired and motivated \n",
            "however he's cauught by the mexican secret police and is forced to infiltrate a gruop political activist in the movement of 68 . \n",
            "arjun ( akshay kumar ) is a high profile vigilante who soon encounters a problem when his mother ( raakhee ) becomes terribly ill . \n",
            "ronnie must then deal with his new life \n",
            "chuck - the songwriting leader of the po'boys \n",
            "chomsky places the terrorist attacks in the context of american foreign intervention throughout the postwar decades--in vietnam \n",
            "she quickly makes friends with paul taylor \n",
            "one of the friends is a dress designer and provides him the artist's clothes and imported cars are provided to him to enjoy life . \n",
            "three friends get together and bury a box making a pact to open it at midnight at their high school graduation . \n",
            "fearful of the repercussions on his already messed up life \n",
            "but her husband always has prevented her realization of this fact . \n",
            "today marks a special anniversary for the couple and they set out to celebrate the way they have before \n",
            "the next morning \n",
            "the boy gets a shock when he comes to know that the job involves spying sharad's wife . \n",
            "in the surroundings of the bookstore \n",
            "blade's team and the bloodpack are the only line of defense which can prevent the reaper population from wiping out the vampire and human populations . \n",
            "after letting his screenwriting software sit on his shelf for three years \n",
            "when the gammasphere goes wrong \n",
            "renata is a young high-class girl and ulises is a poor guy . \n",
            "amaro soon discovers that corruption and the church are old acquaintances in los reyes . \n",
            "in the end \n",
            "he is in search for his salvation and his son salvation from a family curse . \n",
            "all are endeavoring to remove the stones that insistently appear in their path or \n",
            "renowned adventurer allan quatermain ( connery ) leads a team of extraordinary figures with legendary powers to battle the technological terror of a madman known as \" the fantom . \" \n",
            "but for trey segal \n",
            "the sequel to spy kids ; the second film revisits the adventures of the previous film . \n",
            "johnny lever ( paaji ) is a millionaire sardarji who believes in distributing &#38 ; spending lavishly his wealth on his friends . \n",
            "during the year 2000 geyrhalter and his teams travelled to a different destination each month \n",
            "kannas brother ghisu is one aggressive and hot-tempered with who is illiterate and is slowly getting attracted towards naxalites . \n",
            "her loving parents feel helpless as they watch their daughter suffer . \n",
            "area k is an israeli controlled marine zone isolating the gaza strip and preventing palestinian fishermen from entering israel \n",
            "while other kids buy into countless hours of studying just so they can get a mark in some teacher's report book \n",
            "frank's newest transport seems no different from the countless ones he's done in the past . \n",
            "they are told the story of the chamber of secrets . \n",
            "but grace has a secret and it is a dangerous one . \n",
            "the nameless protagonist \n",
            "but there is indie rock \n",
            "a document about a unique political and artistic moment \n",
            "in the cutthroat world of children's television \n",
            "two friends purchase a winning lottery ticket \n",
            "carlton \" niche \" james ( cory barlog ) is a man on a mission . \n",
            "together \n",
            "in this bittersweet slice of working class single new jersey life \n",
            "although their characters and temperaments couldn't be less alike \n",
            "the body bears strange marks on the chest which may or may not be the sign of a sin eater ( furmann ) \n",
            "this romantic comedy \n",
            "matt \n",
            "a martial artist \n",
            "there's only one catch : martin \n",
            "the companies' ceos and attorneys are summoned to a final round of mediation \n",
            "sid \n",
            "he tries to ignor it \n",
            "the family come from a long line of masters of disguise who are able to mask themselves as almost anyone or anything by harnessing the great power of energico . \n",
            "a film so terrifying - even the monsters are frightened ! \n",
            "what he finds is a pocket of life that seems to be in another era \n",
            "love \n",
            "thus when he surprisingly gets an email from american film producer alex brubeck who writes that he had liked the script and would like to meet him personally \n",
            "3 beautiful agents try to find the treasure \n",
            "ethan \n",
            "a close acquaintance overhears their conversation \n",
            "when all but one of mi5's top agents are killed in an explosion . \n",
            "jack has a history with charlie \n",
            "fourth generation war hero col . william mcnamara is imprisoned in a brutal german pow camp . \n",
            "oscar is certain that he could be a better mate to eve than his work-obsessed father . \n",
            "at the same time \n",
            "from her complex and enduring relationship with her mentor and husband to her illicit and controversial affair with leon trotsky \n",
            "there's ushi \n",
            "america's best player is being pulled in to the ultimate cyber-terror . \n",
            "besides him \n",
            "but nobody figured sam decker and his juvenile delinquents into the equation . \n",
            "the film captures intense footage of several art events as well as interviews with burning man organizers larry harvey ( also co-founder ) \n",
            "chon's sister \n",
            "a young father amaro arrives at his new church post on the orders of the bishop . \n",
            "amelia is quickly following into the footsteps of her mother \n",
            "ivan \n",
            "they follow him to las vegas \n",
            "whistle completes the trilogy started in from here to eternity and the thin red line . \n",
            "they gradually find themselves drawn to each other but \n",
            "there he encounters dawn's family who tie him down and put him on trail for the murder of the girl years before . \n",
            "but all is not smooth in the rockies \n",
            "documentarians weissman and weber have expertly crafted a record of a wondrous time and a wild group in the cockettes \n",
            "a banker \n",
            "before they carry this out \n",
            "one of patricia's early followers is francis hiller ( edward albert jr . ) \n",
            "but harper himself is a suspect in several bomb attacks \n",
            "in a fantasy life she lives through her sketchbook \n",
            "kilo decides to learn how to prosper in the drug world and his new life as a dealer begins . \n",
            "he has had no formal education \n",
            "in addition \n",
            "at times he seems to share nicholas's fascination \n",
            "but there are some surprises on the way . . . \n",
            "the sra's act as 'portals' on the internet \n",
            "they discover a little bit about love \n",
            "a zany comedy where as pop is dying he is pushing his remaining son to fulfill his last request ; to marry and carry on the family name . \n",
            "his father and brother are dead for so many years . \n",
            "as the girls begin to bond \n",
            "unwilling to disappoint his proud mother \n",
            "the land has been in the grip of a ravaging drought for 10 years . \n",
            "the story follows them and the people they encounter on their way to their destination . \n",
            "the movie revolves around munnabhai ( sanjay dutt ) a dreaded but good-hearted underworld don of mumbai . \n",
            "she calls on a fairy godmother to grants her three wishes . \n",
            "four characters are carried over \n",
            "she and her daughter flee to find sylvie's first love in the countryside . \n",
            "to spite the hated infidel ways of her father \n",
            "the parent corporation sends in an elite military unit \n",
            "his search soon sends him down a dangerous path . . . \n",
            "together \n",
            "they came to pray \n",
            "ahas \n",
            "this definitely delivers a remarkable mixture of explosive drama with wickedly ironical humor as you follow this eclectic story surrounding this tide-dyed \n",
            "during the war between iran and iraq \n",
            "it's valentines day \n",
            "former world-rallye-champion walter and his daughter natascha are kidnapped by arab terrorists and brought to berlin . \n",
            "but things take a turn for the worst when sheldon finds out that some of the people that he works with \n",
            "the word in las vegas is that he is dead . \n",
            "and in wicker park ( chicago's answer to greenwich village ) \n",
            "leviticus \n",
            "but then the crew detects a break-in on their computer systems \n",
            "all of this changes when he finds a large mysterious package left on his doorstep . \n",
            "this appears to be only the beginning of a string of suicides around the country . \n",
            "they swore to have their unborn babies get married when they grew up . \n",
            "after their relationship falters \n",
            "ben cronin has it all : the admiration of his many friends \n",
            "sebastien cortez is an up and coming film maker who has just gotten his big break in \" the biz . \" \n",
            "having an affair with his girlfriend's professor forces him to make difficult decisions about love \n",
            "meanwhile \n",
            "swept into the final moments of the ceremony \n",
            "how does it play a significant role in japanese culture \n",
            "the artist lives alone in a foreboding old house in the country \n",
            "over 80 of the world's greatest martial artists demonstrate techniques and discuss philosophy in this fascinating account of the martial arts phenomenon and its increasing global popularity . \n",
            "conflict enters their relationship when anthony expresses to victoria that their sex life is practically non-existent . \n",
            "and yet \n",
            "he is locked up in a chinese prison where he is guilty until proven innocent . \n",
            "standard story of boy meets girl and girl thinks he is gay . \n",
            "adam fields is a rage-filled u . s . border patrol agent who often crosses the line in his job . \n",
            "then you remember where the bad dreams came from . \n",
            "brings back nick tellis \n",
            "while awaiting trial \n",
            "in order to preserve her art and also herself \n",
            "he indeed is douglas ( timothy bottoms ) \n",
            "juwanna mann follows the story of jamal jeffries ( miguel a . nunez \n",
            "the five protagonists of my film are women who have not been able to organize the large \" stones \" in their lives . \n",
            "her harrowing story ends in victory \n",
            "an unusual family and a staff of two are preparing a party on their cosy mansion . \n",
            " \" bums in the mist \" will expose you to a world where alcohol is king and sloth is a virtue ; buddy george will discover \n",
            "unfortunately the third seems out of reach - the beautiful \n",
            "gerry's daughter \n",
            "devastated by her husband's death from a drug overdose \n",
            "ex-special forces operator frank martin ( jason statham ) lives what seems to be a quiet life along the french mediterranean \n",
            "upon sighting a small \n",
            "simon is desperately trying to save his internet personals business . \n",
            "a coming of age dramatic comedy dealing with the effect that two \" summers \" have on the lives of several teenagers . \n",
            "jack must then put his life in the hands of a series of characters that he just cannot seem to trust - for good reason \n",
            "the movie introduces us to frankie ( played by david eigenberg ) a would-be romeo who will put himself though great pains to find his juliet . \n",
            "the friends may listen \n",
            "but what if it's lord voldemort trying to make his evil return ? \n",
            "their letter has been received in whitehall and merton corroborates their heroic story . \n",
            "their parents \n",
            "no one knows this better than 35-year-old vince \n",
            "when his mom named him after warren beatty . . . \n",
            "tom \n",
            "he must do this in secret so that the parents and school personnel know nothing of his plan . \n",
            "{esther buffy} a young vibrant chinese american female who desperately tries to please her strict parents along the way of trying to find herself . \n",
            "when a ship sinks off the coast of argentina \n",
            "then there's nicole \n",
            "set during the cull of the stray dogs in the city of bucharest \n",
            "while treating a homicide detective for smoking \n",
            "everything is set for the perfect weekend \n",
            "behind every suicide bombing there is at least one human story that ends \n",
            "steve's best friend \n",
            "partnered with the sassy \n",
            "his house \n",
            "meanwhile \n",
            "until then \n",
            "this film is a prequel to all of the the house of the dead video games . \n",
            "as in his previous films \n",
            "scott was on his way to work shooting a documentary in midtown manhattan on september 11th . \n",
            "a group of hi-tech troops are sent in to destroy the red dimension where the tall man gets his power \n",
            "ever have one of those lifetimes where nothing seems to go right ? \n",
            "paramount to her world is gene \n",
            "will superfag save the world from peckerhead's evil diabolical plan ? \n",
            "these divisions of play into gender roles cause the girls to start talking as if they were sociologists and psychologists discussing learned behaviors . \n",
            "the brass want to close out the case \n",
            "see rare footage of some of the world's greatest kickboxers such as benny \" the jet \" urquidez \n",
            "when two african american pilots become the first non-white soldiers in the camp \n",
            "he reluctantly agrees to protect a child \n",
            "it becomes a harder choice than one might think . \n",
            "this startling film provides a gritty look into american politics in the new south . \n",
            "the internment of 120 \n",
            "she tells him \n",
            "billy is more a showbiz p . r agent than a legal lawyer and minipulates the tabloids into thinking roxie is no more than an innocent 'good time girl' who took the wrong path \n",
            "to ease their roommate ( selma blair ) through a relationship-induced depression \n",
            "shows that you should not fear death \n",
            "each has their reason for wanting to be there - fame \n",
            "when his sister meets a grisly death in san francisco \n",
            "ray misses a chance to see his brother paul before he dies of cancer . \n",
            "principle photography began in july 1999 when the band \n",
            "daniel soon gets his chance to find out when the basement floods and his mother insists daniel share his bedroom with robert while the plumbers fix the mess downstairs . . . \n",
            "in flashbacks that parallel his investigation \n",
            "nsa agent gibbons ( samuel l . jackson ) forces xxx to cooperate with the government to infiltrate an underground russian crime ring and avoid going to prison . \n",
            "in a fit of desperation he challenges god and vents that if only he had god's power \n"
          ]
        }
      ]
    },
    {
      "cell_type": "code",
      "metadata": {
        "id": "TjX2gpnm0WVT"
      },
      "source": [
        "sub_lable=data[\"lable\"]"
      ],
      "execution_count": null,
      "outputs": []
    },
    {
      "cell_type": "code",
      "metadata": {
        "id": "0Cd6stkKvCUJ"
      },
      "source": [
        "# Load stop-words\n",
        "stop_words = set(stopwords.words('english'))\n",
        "\n",
        "# Initialize tokenizer\n",
        "regexp_tokenizer = RegexpTokenizer('[\\'a-zA-Z]+')\n",
        "\n",
        "# Initialize lemmatizer\n",
        "wordnet_lemmatizer = WordNetLemmatizer()"
      ],
      "execution_count": null,
      "outputs": []
    },
    {
      "cell_type": "code",
      "metadata": {
        "id": "AkUQJVX1vJ8m"
      },
      "source": [
        "def tokenize(document, rebuild_document=True):\n",
        "    words = []\n",
        "\n",
        "    for sentence in sent_tokenize(document):\n",
        "        tokens = [wordnet_lemmatizer.lemmatize(t.lower()) \n",
        "        for t in regexp_tokenizer.tokenize(sentence) if t.lower() not in stop_words]\n",
        "        words += tokens\n",
        "\n",
        "    if rebuild_document:\n",
        "        return ' '.join(words).strip()\n",
        "    else:\n",
        "        return words"
      ],
      "execution_count": null,
      "outputs": []
    },
    {
      "cell_type": "code",
      "metadata": {
        "id": "ZemwQSSGvaR5",
        "colab": {
          "base_uri": "https://localhost:8080/"
        },
        "outputId": "2477b894-f3ec-4cb2-96de-234bb7f7f714"
      },
      "source": [
        "sub_data = []\n",
        "\n",
        "df = pd.DataFrame(data)             #类似excel，是一种二维表\n",
        "df = np.array(df)\n",
        "df = df.astype(str)\n",
        "df1 = df.tolist()\n",
        "for i in range(0, len(data)):\n",
        "    sub_data.append(tokenize(df1[i][1]))\n",
        "  \n",
        "for i in sub_data[:300]:\n",
        "  print(i)\n",
        "#print(sub_data)"
      ],
      "execution_count": null,
      "outputs": [
        {
          "output_type": "stream",
          "name": "stdout",
          "text": [
            "movie begin past young boy named sam attempt save celebi hunter\n",
            "emerging human psyche showing characteristic abstract expressionism\n",
            "spurning mother's insistence get life\n",
            "amitabh can't believe board director mind filled revenge better revenge robbing bank\n",
            "\n",
            "give girl fair chance pulling wool eye using sexiness poach last vestige common sense don might\n",
            "styled vh 's behind music\n",
            "blue predicament also lack ability outwardly express emotion\n",
            "killer's clue perversion biblical punishment sin stoning\n",
            "david painter painter's block take job waiter get inspiration\n",
            "woman craved men wanted\n",
            "set island coast florida\n",
            "lesson learned never\n",
            "theme film simultaneously address similarity two faction law crime revealing similarity two brother\n",
            "they're jewish\n",
            "he's neglecting work\n",
            "going\n",
            "valento feel heat turn table make dupe one rub da's nose\n",
            "saigon\n",
            "deep northwest\n",
            "young teenager\n",
            "life\n",
            "game chasing\n",
            "television made famous\n",
            "jordan mom life long search true faith try protect child belief injustice\n",
            "'bloody magic' story zack\n",
            "however\n",
            "called elegant documentary sundance eloquent deeply moving la time\n",
            "straight helicopter action take audience series aerial adventure\n",
            "lapp woman anni give shelter farm\n",
            "also touch encroachment christianity brought missionary\n",
            "set grisly murder brings fbi agent graham norton retirement put search atrocious killer fiennes who's driven image painting\n",
            "soon\n",
            "mother persuades renowned entomologist take trip jungle search butterfly\n",
            "rare gift melding subjectivity biographical fact\n",
            "seeking mental escape\n",
            "beatle fan drama albert\n",
            "\n",
            "deathbed\n",
            "shot behind scene look fictional kung fu movie made\n",
            "investigation end\n",
            "exactly good exactly evil\n",
            "movie take place mexico\n",
            "rainone's love affair singing sensation kelly mcguire discovered near demise hand prot g vincent riccola juice fuel roller coaster ride two debauchery filled decade greed\n",
            "trapped lover triangle ruthless game lust\n",
            "decent dull dek love shirley\n",
            "since architect either busy otherwise conservative style\n",
            "there's story go around town darkness fall\n",
            "strange film employing old home movie newly shot footage effort expose one hungarian family mutiple problem current\n",
            "matsumoto sawako happy couple\n",
            "elvis team jack ossie davis\n",
            "everywhere go plagued cat chance meet carol lonely highway must begin journey\n",
            "used living poverty\n",
            "story normal family come dream lost possibility want realize\n",
            "grit determination molly guide girl epic journey\n",
            "nevertherless feel responsible protect flag monday's ceremony\n",
            "doctor realizes it''s love virus advises woo girl somehow\n",
            "however\n",
            "year later\n",
            "consequently\n",
            "get trouble police simon represses death wish decides help\n",
            "chon travel new york roy o'bannon owen wilson\n",
            "must overcome enemy adept technological witchery\n",
            "life becomes le ordinary encounter herb\n",
            "call e b\n",
            "story start hakimi\n",
            "follow lead\n",
            "second part aki kaurism ki's finland trilogy\n",
            "soon accident\n",
            "edgar becomes intent laying new rule turning coddled son someone take family farm\n",
            "bound long red cord\n",
            "sudden fame seem solve everything\n",
            "option\n",
            "drawing time kid\n",
            "artist\n",
            "daughter kidnapped held exchange priceless diamond\n",
            "garmento tell side story\n",
            "rudy yellowshirt investigator police department witness firsthand painful legacy indian existence\n",
            "journeying vietnam war pulaski\n",
            "weekend come back nothing hangover\n",
            "robert de niro play therapist obsessive compulsive agoraphobic left apartment six year\n",
            "group\n",
            "graced instinctive ability dance\n",
            "genetically engineered immune drug\n",
            "palm springs' white party backdrop documentary fast paced world gay circuit party\n",
            "questionable action later parties' part\n",
            "ramu stand repeat wisdom sharonna\n",
            "anna jewish daughter spanish mother greek father\n",
            "believing parent's dead\n",
            "identified deserter\n",
            "france decides take break buy villa beautiful tuscan countryside decides begin anew\n",
            "set los angeles police department april\n",
            "time becomes wracked horrific surreal vision begin fuel work\n",
            "face serpent action thriller strong political undertone local government corruption\n",
            "resurfaces hired snoop\n",
            "surrounded bevy adoring completely wrong men one dead girl manchester\n",
            "upon discovering infidelity\n",
            "initially reluctant help\n",
            "plan go awry\n",
            "inspired motivated\n",
            "however he's cauught mexican secret police forced infiltrate gruop political activist movement\n",
            "arjun akshay kumar high profile vigilante soon encounter problem mother raakhee becomes terribly ill\n",
            "ronnie must deal new life\n",
            "chuck songwriting leader po'boys\n",
            "chomsky place terrorist attack context american foreign intervention throughout postwar decade vietnam\n",
            "quickly make friend paul taylor\n",
            "one friend dress designer provides artist's clothes imported car provided enjoy life\n",
            "three friend get together bury box making pact open midnight high school graduation\n",
            "fearful repercussion already messed life\n",
            "husband always prevented realization fact\n",
            "today mark special anniversary couple set celebrate way\n",
            "next morning\n",
            "boy get shock come know job involves spying sharad's wife\n",
            "surroundings bookstore\n",
            "blade's team bloodpack line defense prevent reaper population wiping vampire human population\n",
            "letting screenwriting software sit shelf three year\n",
            "gammasphere go wrong\n",
            "renata young high class girl ulises poor guy\n",
            "amaro soon discovers corruption church old acquaintance los reyes\n",
            "end\n",
            "search salvation son salvation family curse\n",
            "endeavoring remove stone insistently appear path\n",
            "renowned adventurer allan quatermain connery lead team extraordinary figure legendary power battle technological terror madman known fantom\n",
            "trey segal\n",
            "sequel spy kid second film revisits adventure previous film\n",
            "johnny lever paaji millionaire sardarji belief distributing spending lavishly wealth friend\n",
            "year geyrhalter team travelled different destination month\n",
            "kannas brother ghisu one aggressive hot tempered illiterate slowly getting attracted towards naxalites\n",
            "loving parent feel helpless watch daughter suffer\n",
            "area k israeli controlled marine zone isolating gaza strip preventing palestinian fisherman entering israel\n",
            "kid buy countless hour studying get mark teacher's report book\n",
            "frank's newest transport seems different countless one he's done past\n",
            "told story chamber secret\n",
            "grace secret dangerous one\n",
            "nameless protagonist\n",
            "indie rock\n",
            "document unique political artistic moment\n",
            "cutthroat world children's television\n",
            "two friend purchase winning lottery ticket\n",
            "carlton niche james cory barlog man mission\n",
            "together\n",
            "bittersweet slice working class single new jersey life\n",
            "although character temperament le alike\n",
            "body bear strange mark chest may may sign sin eater furmann\n",
            "romantic comedy\n",
            "matt\n",
            "martial artist\n",
            "there's one catch martin\n",
            "companies' ceo attorney summoned final round mediation\n",
            "sid\n",
            "try ignor\n",
            "family come long line master disguise able mask almost anyone anything harnessing great power energico\n",
            "film terrifying even monster frightened\n",
            "find pocket life seems another era\n",
            "love\n",
            "thus surprisingly get email american film producer alex brubeck writes liked script would like meet personally\n",
            "beautiful agent try find treasure\n",
            "ethan\n",
            "close acquaintance overhears conversation\n",
            "one mi 's top agent killed explosion\n",
            "jack history charlie\n",
            "fourth generation war hero col william mcnamara imprisoned brutal german pow camp\n",
            "oscar certain could better mate eve work obsessed father\n",
            "time\n",
            "complex enduring relationship mentor husband illicit controversial affair leon trotsky\n",
            "there's ushi\n",
            "america's best player pulled ultimate cyber terror\n",
            "besides\n",
            "nobody figured sam decker juvenile delinquent equation\n",
            "film capture intense footage several art event well interview burning man organizer larry harvey also co founder\n",
            "chon's sister\n",
            "young father amaro arrives new church post order bishop\n",
            "amelia quickly following footstep mother\n",
            "ivan\n",
            "follow la vega\n",
            "whistle completes trilogy started eternity thin red line\n",
            "gradually find drawn\n",
            "encounter dawn's family tie put trail murder girl year\n",
            "smooth rockies\n",
            "documentarians weissman weber expertly crafted record wondrous time wild group cockettes\n",
            "banker\n",
            "carry\n",
            "one patricia's early follower francis hiller edward albert jr\n",
            "harper suspect several bomb attack\n",
            "fantasy life life sketchbook\n",
            "kilo decides learn prosper drug world new life dealer begin\n",
            "formal education\n",
            "addition\n",
            "time seems share nicholas's fascination\n",
            "surprise way\n",
            "sra's act 'portals' internet\n",
            "discover little bit love\n",
            "zany comedy pop dying pushing remaining son fulfill last request marry carry family name\n",
            "father brother dead many year\n",
            "girl begin bond\n",
            "unwilling disappoint proud mother\n",
            "land grip ravaging drought year\n",
            "story follows people encounter way destination\n",
            "movie revolves around munnabhai sanjay dutt dreaded good hearted underworld mumbai\n",
            "call fairy godmother grant three wish\n",
            "four character carried\n",
            "daughter flee find sylvie's first love countryside\n",
            "spite hated infidel way father\n",
            "parent corporation sends elite military unit\n",
            "search soon sends dangerous path\n",
            "together\n",
            "came pray\n",
            "ahas\n",
            "definitely delivers remarkable mixture explosive drama wickedly ironical humor follow eclectic story surrounding tide dyed\n",
            "war iran iraq\n",
            "valentine day\n",
            "former world rallye champion walter daughter natascha kidnapped arab terrorist brought berlin\n",
            "thing take turn worst sheldon find people work\n",
            "word la vega dead\n",
            "wicker park chicago's answer greenwich village\n",
            "leviticus\n",
            "crew detects break computer system\n",
            "change find large mysterious package left doorstep\n",
            "appears beginning string suicide around country\n",
            "swore unborn baby get married grew\n",
            "relationship falter\n",
            "ben cronin admiration many friend\n",
            "sebastien cortez coming film maker gotten big break biz\n",
            "affair girlfriend's professor force make difficult decision love\n",
            "meanwhile\n",
            "swept final moment ceremony\n",
            "play significant role japanese culture\n",
            "artist life alone foreboding old house country\n",
            "world's greatest martial artist demonstrate technique discus philosophy fascinating account martial art phenomenon increasing global popularity\n",
            "conflict enters relationship anthony express victoria sex life practically non existent\n",
            "yet\n",
            "locked chinese prison guilty proven innocent\n",
            "standard story boy meet girl girl think gay\n",
            "adam field rage filled u border patrol agent often cross line job\n",
            "remember bad dream came\n",
            "brings back nick tellis\n",
            "awaiting trial\n",
            "order preserve art also\n",
            "indeed douglas timothy bottom\n",
            "juwanna mann follows story jamal jeffries miguel nunez\n",
            "five protagonist film woman able organize large stone life\n",
            "harrowing story end victory\n",
            "unusual family staff two preparing party cosy mansion\n",
            "bum mist expose world alcohol king sloth virtue buddy george discover\n",
            "unfortunately third seems reach beautiful\n",
            "gerry's daughter\n",
            "devastated husband's death drug overdose\n",
            "ex special force operator frank martin jason statham life seems quiet life along french mediterranean\n",
            "upon sighting small\n",
            "simon desperately trying save internet personal business\n",
            "coming age dramatic comedy dealing effect two summer life several teenager\n",
            "jack must put life hand series character cannot seem trust good reason\n",
            "movie introduces u frankie played david eigenberg would romeo put though great pain find juliet\n",
            "friend may listen\n",
            "lord voldemort trying make evil return\n",
            "letter received whitehall merton corroborates heroic story\n",
            "parent\n",
            "one know better year old vince\n",
            "mom named warren beatty\n",
            "tom\n",
            "must secret parent school personnel know nothing plan\n",
            "esther buffy young vibrant chinese american female desperately try please strict parent along way trying find\n",
            "ship sink coast argentina\n",
            "there's nicole\n",
            "set cull stray dog city bucharest\n",
            "treating homicide detective smoking\n",
            "everything set perfect weekend\n",
            "behind every suicide bombing least one human story end\n",
            "steve's best friend\n",
            "partnered sassy\n",
            "house\n",
            "meanwhile\n",
            "\n",
            "film prequel house dead video game\n",
            "previous film\n",
            "scott way work shooting documentary midtown manhattan september th\n",
            "group hi tech troop sent destroy red dimension tall man get power\n",
            "ever one lifetime nothing seems go right\n",
            "paramount world gene\n",
            "superfag save world peckerhead's evil diabolical plan\n",
            "division play gender role cause girl start talking sociologist psychologist discussing learned behavior\n",
            "brass want close case\n",
            "see rare footage world's greatest kickboxers benny jet urquidez\n",
            "two african american pilot become first non white soldier camp\n",
            "reluctantly agrees protect child\n",
            "becomes harder choice one might think\n",
            "startling film provides gritty look american politics new south\n",
            "internment\n",
            "tell\n",
            "billy showbiz p r agent legal lawyer minipulates tabloid thinking roxie innocent 'good time girl' took wrong path\n",
            "ease roommate selma blair relationship induced depression\n",
            "show fear death\n",
            "reason wanting fame\n",
            "sister meet grisly death san francisco\n",
            "ray miss chance see brother paul dy cancer\n",
            "principle photography began july band\n",
            "daniel soon get chance find basement flood mother insists daniel share bedroom robert plumber fix mess downstairs\n",
            "flashback parallel investigation\n",
            "nsa agent gibbon samuel l jackson force xxx cooperate government infiltrate underground russian crime ring avoid going prison\n",
            "fit desperation challenge god vent god's power\n"
          ]
        }
      ]
    },
    {
      "cell_type": "code",
      "metadata": {
        "id": "HYy_iYYHrVQf"
      },
      "source": [
        "def bow(data):\n",
        "  tokenizer = Tokenizer()\n",
        "  tokenizer.fit_on_texts(data)  #学习出文本的字典\n",
        "  sub_data_bow = tokenizer.texts_to_sequences(data) #通过这个dict可以将每个string的每个词转成数字\n",
        "  sub_data_bow= pad_sequences(sub_data_bow, maxlen=200)   #通过padding的方法补成同样长度\n",
        "  return sub_data_bow"
      ],
      "execution_count": null,
      "outputs": []
    },
    {
      "cell_type": "code",
      "metadata": {
        "id": "yHduzAoDrgK4"
      },
      "source": [
        "X_data_bow=bow(sub_data)"
      ],
      "execution_count": null,
      "outputs": []
    },
    {
      "cell_type": "code",
      "metadata": {
        "id": "nIMbp_zwrl3e"
      },
      "source": [
        "X_train, X_val, y_train, y_val = train_test_split(X_data_bow, sub_lable, test_size=0.3)"
      ],
      "execution_count": null,
      "outputs": []
    },
    {
      "cell_type": "code",
      "metadata": {
        "id": "POlEUALnbMNs",
        "colab": {
          "base_uri": "https://localhost:8080/"
        },
        "outputId": "ba4a61a1-0e25-49be-a1a5-ca1f64001c1f"
      },
      "source": [
        "from sklearn.preprocessing import StandardScaler\n",
        "scaler = StandardScaler() #StandardScaler类是一个用来讲数据进行归一化和标准化的类\n",
        "svc = SVC()\n",
        "\n",
        "# Define pipeline\n",
        "svc_pipeline = Pipeline([('scaler', scaler), ('svc', svc)])\n",
        "# Grid search parameters\n",
        "svc_param_grid = [\n",
        "    #{ \n",
        "     #   'svc__kernel': [ 'linear' ],\n",
        "     #   'svc__C': [0.5, 1.0, 1.3, 1.5, 1.8, 2.0, 2.5, 3.0, 3.5, 4.0, 5.0, 10.0 ]\n",
        "    #},\n",
        "    #{ \n",
        "    #    'svc__kernel': [ 'poly' ],\n",
        "    #    'svc__C': [0.5, 1.0, 1.3, 1.5, 1.8, 2.0, 2.5, 3.0, 3.5, 4.0, 5.0, 10.0 ]\n",
        "    #},\n",
        "    { \n",
        "        'svc__kernel': [ 'rbf' ],\n",
        "        'svc__C': [0.5, 1.0, 1.3, 1.5, 1.8, 2.0, 2.5, 3.0, 3.5, 4.0, 5.0, 10.0, 13, 15]\n",
        "    }\n",
        "]\n",
        "\n",
        "# Perform grid search\n",
        "svc_gs = GridSearchCV(estimator=svc_pipeline, param_grid=svc_param_grid, \n",
        "                           scoring='accuracy', cv=15, n_jobs=multiprocessing.cpu_count())\n",
        "\n",
        "\n",
        "svc_gs.fit(X_train, y_train)\n",
        "\n",
        "# Create an instance of the best estimator\n",
        "svc_best = svc_gs.best_estimator_\n",
        "svc_best.fit(X_train, y_train)\n",
        "\n",
        "\n",
        "print('Best model: %s' % str(svc_gs.best_params_))\n",
        "print('Best score: %f' % svc_gs.best_score_)\n",
        "print('Best test accuracy: %s' % svc_gs.score(X_val, y_val))"
      ],
      "execution_count": null,
      "outputs": [
        {
          "output_type": "stream",
          "name": "stdout",
          "text": [
            "Best model: {'svc__C': 13, 'svc__kernel': 'rbf'}\n",
            "Best score: 0.690570\n",
            "Best test accuracy: 0.689\n"
          ]
        }
      ]
    },
    {
      "cell_type": "markdown",
      "metadata": {
        "id": "uzJJLxCy6zAz"
      },
      "source": [
        "**----------------------------------------------------------------------------------**"
      ]
    },
    {
      "cell_type": "code",
      "metadata": {
        "id": "x0J7P66X1Se0"
      },
      "source": [
        "def truncatedvectors(data,n_components=300):\n",
        "  svd_ngram = TruncatedSVD(n_components=n_components, random_state=42)\n",
        "  svd_ngram.fit(data)\n",
        "  return svd_ngram.transform(data)"
      ],
      "execution_count": null,
      "outputs": []
    },
    {
      "cell_type": "code",
      "metadata": {
        "id": "BD1FzPBa1Yaz"
      },
      "source": [
        "def tfidf(data):\n",
        "  tfidf_vect_ngram = TfidfVectorizer(analyzer='word', max_features=30000, ngram_range=(1, 2))\n",
        "  tfidf_vect_ngram.fit(data)\n",
        "  X_data_tfidf_ngram =  tfidf_vect_ngram.transform(data)\n",
        "  return truncatedvectors(X_data_tfidf_ngram)"
      ],
      "execution_count": null,
      "outputs": []
    },
    {
      "cell_type": "code",
      "metadata": {
        "id": "1nVYONYy1bKd",
        "colab": {
          "base_uri": "https://localhost:8080/"
        },
        "outputId": "b133cff5-df40-44f5-eae1-3468abeaca49"
      },
      "source": [
        "X_data_tfidf_cmt=tfidf(sub_data)\n",
        "print(X_data_tfidf_cmt)"
      ],
      "execution_count": null,
      "outputs": [
        {
          "output_type": "stream",
          "name": "stdout",
          "text": [
            "[[ 0.01559359  0.04743816  0.07348481 ...  0.01594385  0.0057213\n",
            "  -0.00764764]\n",
            " [ 0.0015858   0.00495579  0.00267961 ... -0.00431148  0.00282505\n",
            "   0.00511675]\n",
            " [ 0.01355419  0.03572608  0.02591722 ...  0.005001   -0.0054985\n",
            "  -0.00818447]\n",
            " ...\n",
            " [ 0.02409557  0.07280912  0.04927193 ... -0.01352181 -0.00096981\n",
            "   0.02926702]\n",
            " [ 0.00029066  0.00093106  0.00183889 ...  0.00170857 -0.00485002\n",
            "  -0.00240502]\n",
            " [ 0.00084806  0.00269119  0.00125949 ...  0.00631811 -0.02503989\n",
            "   0.0018883 ]]\n"
          ]
        }
      ]
    },
    {
      "cell_type": "code",
      "metadata": {
        "id": "f8mDd_oK570g"
      },
      "source": [
        "X_train, X_val, y_train, y_val = train_test_split(X_data_tfidf_cmt, sub_lable, test_size=0.3, random_state=42)"
      ],
      "execution_count": null,
      "outputs": []
    },
    {
      "cell_type": "markdown",
      "metadata": {
        "id": "0tf6cf1Sskyd"
      },
      "source": [
        "--------------------------------------------------------------------------------------------------------------------------\n"
      ]
    },
    {
      "cell_type": "code",
      "metadata": {
        "id": "iIHzR9Bu6IPU"
      },
      "source": [
        "from sklearn.preprocessing import StandardScaler\n",
        "scaler = StandardScaler() #StandardScaler类是一个用来讲数据进行归一化和标准化的类\n",
        "svc = SVC()\n",
        "\n",
        "# Define pipeline\n",
        "svc_d2v_pipeline = Pipeline([('scaler', scaler), ('svc', svc)])\n",
        "# Grid search parameters\n",
        "svc_d2v_param_grid = [\n",
        "    { \n",
        "        'svc__kernel': [ 'linear' ],\n",
        "        'svc__C': [0.5, 1.0, 1.3, 1.5, 1.8, 2.0, 2.5, 3.0, 3.5, 4.0, 5.0, 10.0 ]\n",
        "    },\n",
        "    { \n",
        "        'svc__kernel': [ 'poly' ],\n",
        "        'svc__C': [0.5, 1.0, 1.3, 1.5, 1.8, 2.0, 2.5, 3.0, 3.5, 4.0, 5.0, 10.0 ]\n",
        "    },\n",
        "    { \n",
        "        'svc__kernel': [ 'rbf' ],\n",
        "        'svc__C': [0.5, 1.0, 1.3, 1.5, 1.8, 2.0, 2.5, 3.0, 3.5, 4.0, 5.0, 10.0 ]\n",
        "    }\n",
        "]\n",
        "\n",
        "# Perform grid search\n",
        "svc_d2v_gs = GridSearchCV(estimator=svc_d2v_pipeline, param_grid=svc_d2v_param_grid, \n",
        "                           scoring='accuracy', cv=15, n_jobs=multiprocessing.cpu_count())\n",
        "\n",
        "\n",
        "svc_d2v_gs.fit(X_train, y_train)\n",
        "\n",
        "# Create an instance of the best estimator\n",
        "svc_d2v_best = svc_d2v_gs.best_estimator_\n",
        "svc_d2v_best.fit(X_train, y_train)\n",
        "\n",
        "\n",
        "print('Best model: %s' % str(svc_d2v_gs.best_params_))\n",
        "print('Best score: %f' % svc_d2v_gs.best_score_)\n",
        "print('Best test accuracy: %s' % svc_d2v_gs.score(X_val, y_val))"
      ],
      "execution_count": null,
      "outputs": []
    }
  ]
}